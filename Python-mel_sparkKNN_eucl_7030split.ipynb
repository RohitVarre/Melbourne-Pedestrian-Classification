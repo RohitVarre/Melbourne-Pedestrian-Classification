{
 "cells": [
  {
   "cell_type": "code",
   "execution_count": 1,
   "metadata": {},
   "outputs": [],
   "source": [
    "import pandas as pd\n",
    "import random\n",
    "import math\n",
    "from numpy.random import rand\n",
    "import time"
   ]
  },
  {
   "cell_type": "code",
   "execution_count": 2,
   "metadata": {},
   "outputs": [],
   "source": [
    "oversampling = True\n",
    "train_part_num = 10\n",
    "test_part_num = 1\n",
    "k = 1\n",
    "in_k = max(math.floor(k/train_part_num), 1)"
   ]
  },
  {
   "cell_type": "code",
   "execution_count": 3,
   "metadata": {
    "application/vnd.databricks.v1+cell": {
     "cellMetadata": {
      "byteLimit": 2048000,
      "rowLimit": 10000
     },
     "inputWidgets": {},
     "nuid": "2614e3b7-b304-4acd-abb6-88fc73a1a1cf",
     "showTitle": false,
     "title": ""
    }
   },
   "outputs": [],
   "source": [
    "train_df = pd.read_csv(\"../data/MelbournePedestrian/MelbournePedestrian_TRAIN.tsv\", sep='\\t', header=None)\n",
    "test_df = pd.read_csv(\"../data/MelbournePedestrian/MelbournePedestrian_TEST.tsv\" ,sep='\\t', header=None)\n",
    "train_df = train_df.sample(frac=1, random_state=42)\n",
    "test_df = test_df.sample(frac=1, random_state=42)\n",
    "train_df = train_df.rename(columns={0: \"Class\"})\n",
    "test_df = test_df.rename(columns={0: \"Class\"})\n",
    "\n",
    "for col_name in train_df.columns[1:]:\n",
    "    if col_name != \"Class\":\n",
    "        train_df[col_name] = train_df[col_name].astype(\"float\")\n",
    "\n",
    "for col_name in test_df.columns[1:]:\n",
    "    if col_name != \"Class\":\n",
    "        test_df[col_name] = test_df[col_name].astype(\"float\")\n",
    "merged_df = pd.concat([train_df, test_df], ignore_index=True)"
   ]
  },
  {
   "cell_type": "code",
   "execution_count": 4,
   "metadata": {},
   "outputs": [],
   "source": [
    "merged_df = merged_df.head(1000)"
   ]
  },
  {
   "cell_type": "code",
   "execution_count": 5,
   "metadata": {},
   "outputs": [],
   "source": [
    "from sklearn.model_selection import train_test_split\n",
    "\n",
    "train_ratio = 0.7\n",
    "test_ratio = 0.3\n",
    "random_state = 346\n",
    "\n",
    "train_df, test_df = train_test_split(merged_df, train_size=train_ratio, test_size=test_ratio, random_state=random_state)\n"
   ]
  },
  {
   "cell_type": "code",
   "execution_count": 6,
   "metadata": {},
   "outputs": [
    {
     "data": {
      "text/plain": [
       "700"
      ]
     },
     "execution_count": 6,
     "metadata": {},
     "output_type": "execute_result"
    }
   ],
   "source": [
    "train_df.shape[0]"
   ]
  },
  {
   "cell_type": "code",
   "execution_count": 7,
   "metadata": {},
   "outputs": [
    {
     "name": "stdout",
     "output_type": "stream",
     "text": [
      "Time to fit and make predictions: 0.17922592163085938\n",
      "              precision    recall  f1-score   support\n",
      "\n",
      "           1       0.93      0.97      0.95        29\n",
      "           2       0.93      0.86      0.89        29\n",
      "           3       0.93      0.93      0.93        29\n",
      "           4       0.96      0.96      0.96        28\n",
      "           5       0.97      0.97      0.97        36\n",
      "           6       0.93      0.93      0.93        30\n",
      "           7       0.93      1.00      0.96        26\n",
      "           8       0.96      0.96      0.96        28\n",
      "           9       0.95      0.97      0.96        37\n",
      "          10       0.96      0.89      0.93        28\n",
      "\n",
      "    accuracy                           0.95       300\n",
      "   macro avg       0.95      0.95      0.95       300\n",
      "weighted avg       0.95      0.95      0.95       300\n",
      "\n"
     ]
    }
   ],
   "source": [
    "from sklearn.neighbors import KNeighborsClassifier\n",
    "from sklearn.metrics import classification_report\n",
    "\n",
    "# Get X and y data\n",
    "X_train = train_df.iloc[:, 1:].values\n",
    "y_train = train_df[\"Class\"].values\n",
    "X_test = test_df.iloc[:, 1:].values\n",
    "y_test = test_df[\"Class\"].values\n",
    "\n",
    "# Create KNN classifier\n",
    "knn = KNeighborsClassifier(n_neighbors=3)\n",
    "\n",
    "start_time = time.time()\n",
    "\n",
    "# Fit the classifier to the training data\n",
    "knn.fit(X_train, y_train)\n",
    "# Make predictions on the test data\n",
    "y_pred = knn.predict(X_test)\n",
    "\n",
    "predict_time = time.time() - start_time\n",
    "\n",
    "print(\"Time to fit and make predictions:\", predict_time)\n",
    "# Print classification report\n",
    "print(classification_report(y_test, y_pred))\n"
   ]
  },
  {
   "cell_type": "code",
   "execution_count": null,
   "metadata": {},
   "outputs": [],
   "source": []
  },
  {
   "cell_type": "code",
   "execution_count": null,
   "metadata": {},
   "outputs": [],
   "source": []
  }
 ],
 "metadata": {
  "application/vnd.databricks.v1+notebook": {
   "dashboards": [],
   "language": "python",
   "notebookMetadata": {
    "pythonIndentUnit": 2
   },
   "notebookName": "ECG5000",
   "notebookOrigID": 2572364315463075,
   "widgets": {}
  },
  "kernelspec": {
   "display_name": "Python 3 (ipykernel)",
   "language": "python",
   "name": "python3"
  },
  "language_info": {
   "codemirror_mode": {
    "name": "ipython",
    "version": 3
   },
   "file_extension": ".py",
   "mimetype": "text/x-python",
   "name": "python",
   "nbconvert_exporter": "python",
   "pygments_lexer": "ipython3",
   "version": "3.10.9"
  }
 },
 "nbformat": 4,
 "nbformat_minor": 1
}
