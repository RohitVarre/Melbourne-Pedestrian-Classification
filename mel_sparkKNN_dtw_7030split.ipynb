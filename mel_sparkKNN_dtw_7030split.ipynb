{
 "cells": [
  {
   "cell_type": "code",
   "execution_count": 40,
   "metadata": {},
   "outputs": [],
   "source": [
    "from pyspark.sql import SparkSession\n",
    "\n",
    "spark = SparkSession \\\n",
    "    .builder \\\n",
    "    .master(\"local[*]\") \\\n",
    "    .config(\"spark.driver.memory\", \"15g\") \\\n",
    "    .appName(\"MelbournePedistrian\") \\\n",
    "    .getOrCreate()\n",
    "\n",
    "sc = spark.sparkContext"
   ]
  },
  {
   "cell_type": "code",
   "execution_count": 41,
   "metadata": {},
   "outputs": [],
   "source": [
    "import math\n",
    "\n",
    "oversampling = True\n",
    "train_part_num = 10\n",
    "test_part_num = 1\n",
    "k = 1\n",
    "in_k = max(math.floor(k/train_part_num), 1)"
   ]
  },
  {
   "cell_type": "code",
   "execution_count": 42,
   "metadata": {},
   "outputs": [],
   "source": [
    "from pyspark.sql.types import *\n",
    "from pyspark.sql.functions import col, mean, stddev\n",
    "from pyspark.sql.functions import col, isnan, when, count\n",
    "\n",
    "def load_and_preprocess(train_path, test_path):\n",
    "    schema = StructType([\n",
    "        StructField(\"Class\", StringType(), True),\n",
    "        StructField(\"0hr\", FloatType(), True),\n",
    "        StructField(\"1hr\", FloatType(), True),\n",
    "        StructField(\"2hr\", FloatType(), True),\n",
    "        StructField(\"3hr\", FloatType(), True),\n",
    "        StructField(\"4hr\", FloatType(), True),\n",
    "        StructField(\"5hr\", FloatType(), True),\n",
    "        StructField(\"6hr\", FloatType(), True),\n",
    "        StructField(\"7hr\", FloatType(), True),\n",
    "        StructField(\"8hr\", FloatType(), True),\n",
    "        StructField(\"9hr\", FloatType(), True),\n",
    "        StructField(\"10hr\", FloatType(), True),\n",
    "        StructField(\"11hr\", FloatType(), True),\n",
    "        StructField(\"12hr\", FloatType(), True),\n",
    "        StructField(\"13hr\", FloatType(), True),\n",
    "        StructField(\"14hr\", FloatType(), True),\n",
    "        StructField(\"15hr\", FloatType(), True),\n",
    "        StructField(\"16hr\", FloatType(), True),\n",
    "        StructField(\"17hr\", FloatType(), True),\n",
    "        StructField(\"18hr\", FloatType(), True),\n",
    "        StructField(\"19hr\", FloatType(), True),\n",
    "        StructField(\"20hr\", FloatType(), True),\n",
    "        StructField(\"21hr\", FloatType(), True),\n",
    "        StructField(\"22hr\", FloatType(), True),\n",
    "        StructField(\"23hr\", FloatType(), True)\n",
    "    ])\n",
    "    train_df = spark.read.format(\"csv\").option(\"delimiter\", \"\\t\").schema(schema).load(train_path)\n",
    "    test_df = spark.read.format(\"csv\").option(\"delimiter\", \"\\t\").schema(schema).load(test_path)\n",
    "\n",
    "    from pyspark.sql.functions import rand\n",
    "\n",
    "    train_df = train_df.orderBy(rand(seed=42))\n",
    "    test_df = test_df.orderBy(rand(seed=42))\n",
    "\n",
    "    merged_df = train_df.union(test_df)\n",
    "\n",
    "    # Replace NaN values\n",
    "    for column in merged_df.columns[1:]:\n",
    "        median = merged_df.approxQuantile(column, [0.5], 0.25)[0]\n",
    "        merged_df = merged_df.na.fill(median, [column])\n",
    "\n",
    "    return merged_df"
   ]
  },
  {
   "cell_type": "code",
   "execution_count": 43,
   "metadata": {},
   "outputs": [
    {
     "name": "stderr",
     "output_type": "stream",
     "text": [
      "                                                                                \r"
     ]
    },
    {
     "data": {
      "text/plain": [
       "3633"
      ]
     },
     "execution_count": 43,
     "metadata": {},
     "output_type": "execute_result"
    }
   ],
   "source": [
    "merged_df = load_and_preprocess(\n",
    "    \"../data/MelbournePedestrian/MelbournePedestrian_TRAIN.tsv\", \n",
    "    \"../data/MelbournePedestrian/MelbournePedestrian_TEST.tsv\"\n",
    "    )\n",
    "\n",
    "# Show the resulting dataframe\n",
    "merged_df.count()"
   ]
  },
  {
   "cell_type": "code",
   "execution_count": null,
   "metadata": {},
   "outputs": [],
   "source": [
    "merged_df = merged_df.limit(1000)"
   ]
  },
  {
   "cell_type": "code",
   "execution_count": 44,
   "metadata": {},
   "outputs": [],
   "source": [
    "# Define the split ratio\n",
    "train_ratio = 0.7\n",
    "test_ratio = 0.3\n",
    "\n",
    "# Split the data into train and test sets\n",
    "train_df, test_df = merged_df.randomSplit([train_ratio, test_ratio], seed=346)"
   ]
  },
  {
   "cell_type": "code",
   "execution_count": 45,
   "metadata": {},
   "outputs": [
    {
     "name": "stderr",
     "output_type": "stream",
     "text": [
      "[Stage 250:>                (0 + 1) / 1][Stage 697:============>(381 + 7) / 400]\r"
     ]
    },
    {
     "name": "stdout",
     "output_type": "stream",
     "text": [
      "+-----+-----+\n",
      "|Class|count|\n",
      "+-----+-----+\n",
      "|    3|  248|\n",
      "|   10|  263|\n",
      "|    4|  258|\n",
      "|    7|  264|\n",
      "|    5|  262|\n",
      "|    1|  260|\n",
      "|    2|  264|\n",
      "|    6|  259|\n",
      "|    9|  255|\n",
      "|    8|  245|\n",
      "+-----+-----+\n",
      "\n"
     ]
    },
    {
     "name": "stderr",
     "output_type": "stream",
     "text": [
      "                                                                                \r"
     ]
    }
   ],
   "source": [
    "train_df.groupBy(\"Class\").count().show()"
   ]
  },
  {
   "cell_type": "code",
   "execution_count": 46,
   "metadata": {},
   "outputs": [
    {
     "name": "stderr",
     "output_type": "stream",
     "text": [
      "                                                                                \r"
     ]
    },
    {
     "data": {
      "text/plain": [
       "2578"
      ]
     },
     "execution_count": 46,
     "metadata": {},
     "output_type": "execute_result"
    }
   ],
   "source": [
    "train_df.count()"
   ]
  },
  {
   "cell_type": "code",
   "execution_count": 47,
   "metadata": {},
   "outputs": [],
   "source": [
    "# train_df.cache()\n",
    "# test_df.cache()"
   ]
  },
  {
   "cell_type": "code",
   "execution_count": 48,
   "metadata": {
    "application/vnd.databricks.v1+cell": {
     "cellMetadata": {
      "byteLimit": 2048000,
      "rowLimit": 10000
     },
     "inputWidgets": {},
     "nuid": "7116dd64-515e-4879-8051-fe1bdca75b6c",
     "showTitle": false,
     "title": ""
    }
   },
   "outputs": [],
   "source": [
    "# for df in [train_df, test_df]:\n",
    "#     duplicates_df = df.dropDuplicates()\n",
    "#     num_duplicates = df.count() - duplicates_df.count()\n",
    "#     if num_duplicates > 0:\n",
    "#         print(\"There are duplicate rows in the DataFrame.\")\n",
    "#     else:\n",
    "#         print(\"There are no duplicate rows in the DataFrame.\")"
   ]
  },
  {
   "cell_type": "code",
   "execution_count": 49,
   "metadata": {
    "application/vnd.databricks.v1+cell": {
     "cellMetadata": {},
     "inputWidgets": {},
     "nuid": "6dfcd683-9f9a-4bbc-b9ab-cf360a3ee761",
     "showTitle": false,
     "title": ""
    }
   },
   "outputs": [],
   "source": [
    "import pyspark.sql.functions as F\n",
    "from tslearn.neighbors import KNeighborsTimeSeriesClassifier\n",
    "import pandas as pd"
   ]
  },
  {
   "cell_type": "code",
   "execution_count": 50,
   "metadata": {},
   "outputs": [],
   "source": [
    "train_rdd = train_df.rdd.repartition(train_part_num)\n",
    "column_names = df.columns"
   ]
  },
  {
   "cell_type": "code",
   "execution_count": 51,
   "metadata": {},
   "outputs": [],
   "source": [
    "def toPandas_partition(instances):\n",
    "    panda_df = pd.DataFrame(columns = column_names)      # using the global variable\n",
    "    \n",
    "    for instance in instances:  # each instance is of Row type\n",
    "        panda_df = pd.concat([panda_df, pd.DataFrame([instance.asDict()])], ignore_index=True)\n",
    "  \n",
    "    return [panda_df]\n",
    "\n",
    "rdd_pandas = train_rdd.mapPartitions(toPandas_partition)"
   ]
  },
  {
   "cell_type": "code",
   "execution_count": 52,
   "metadata": {},
   "outputs": [
    {
     "name": "stderr",
     "output_type": "stream",
     "text": [
      "                                                                                \r"
     ]
    }
   ],
   "source": [
    "import random\n",
    "\n",
    "def build_model(partition):\n",
    "\n",
    "    knn = KNeighborsTimeSeriesClassifier(n_neighbors=in_k, metric='dtw')\n",
    "    \n",
    "    X_train = partition.drop('Class', axis=1)\n",
    "    y_train = partition['Class']\n",
    "    \n",
    "    model = knn.fit(X_train, y_train)\n",
    "\n",
    "    return model\n",
    "\n",
    "model = rdd_pandas.map(build_model).collect()"
   ]
  },
  {
   "cell_type": "code",
   "execution_count": 53,
   "metadata": {},
   "outputs": [],
   "source": [
    "test_rdd  = test_df.rdd.repartition(test_part_num)\n",
    "test_rdd_pandas = test_rdd.mapPartitions(toPandas_partition)"
   ]
  },
  {
   "cell_type": "code",
   "execution_count": 54,
   "metadata": {},
   "outputs": [],
   "source": [
    "def test_classifier(partition):\n",
    "    predictions = []\n",
    "    distances = []\n",
    "    X_test = partition.drop('Class', axis=1).values\n",
    "    \n",
    "    for m in model:\n",
    "        neighbors = m.kneighbors(X_test)\n",
    "        pred = m.predict(X_test).tolist()\n",
    "        distances.append(neighbors[0].tolist())\n",
    "        predictions.append(pred)\n",
    "\n",
    "    return predictions, distances\n",
    "\n",
    "def get_majority_vote(predictions):\n",
    "    return max(set(predictions), key=predictions.count)\n",
    "\n",
    "def predict_class(partition):\n",
    "    predictions, distances = test_classifier(partition)\n",
    "    predicted_labels = []\n",
    "\n",
    "    for i in range(len(predictions[0])):\n",
    "        class_votes = []\n",
    "        dist_votes = []\n",
    "        for j in range(len(predictions)):\n",
    "            class_votes.append(predictions[j][i])\n",
    "            dist_votes.append(distances[j][i])\n",
    "\n",
    "        k_nearest = sorted(zip(dist_votes, class_votes), key=lambda x: x[0])[:k]\n",
    "        majority_class = get_majority_vote([x[1] for x in k_nearest])\n",
    "        # print(\"CLASS VOTES:\\n\", class_votes)\n",
    "        # print(\"MAJORITY CLASS:\", majority_class)\n",
    "        predicted_labels.append(majority_class)\n",
    "\n",
    "    return predicted_labels\n",
    "\n",
    "predictions = test_rdd_pandas.map(predict_class).flatMap(lambda x: x)"
   ]
  },
  {
   "cell_type": "code",
   "execution_count": 55,
   "metadata": {},
   "outputs": [
    {
     "name": "stderr",
     "output_type": "stream",
     "text": [
      "Exception in thread \"serve RDD 729\" java.net.SocketTimeoutException: Accept timed out\n",
      "\tat java.base/java.net.PlainSocketImpl.socketAccept(Native Method)\n",
      "\tat java.base/java.net.AbstractPlainSocketImpl.accept(AbstractPlainSocketImpl.java:474)\n",
      "\tat java.base/java.net.ServerSocket.implAccept(ServerSocket.java:565)\n",
      "\tat java.base/java.net.ServerSocket.accept(ServerSocket.java:533)\n",
      "\tat org.apache.spark.security.SocketAuthServer$$anon$1.run(SocketAuthServer.scala:64)\n",
      "                                                                                \r"
     ]
    }
   ],
   "source": [
    "y_pred = predictions.collect()"
   ]
  },
  {
   "cell_type": "code",
   "execution_count": 56,
   "metadata": {},
   "outputs": [
    {
     "name": "stderr",
     "output_type": "stream",
     "text": [
      "                                                                                \r"
     ]
    }
   ],
   "source": [
    "y_test = test_df.select(\"Class\").collect()"
   ]
  },
  {
   "cell_type": "code",
   "execution_count": 57,
   "metadata": {},
   "outputs": [],
   "source": [
    "from pyspark.sql.functions import when, count\n",
    "\n",
    "y_pred_df = spark.createDataFrame([(i,) for i in y_pred], ['prediction'])\n",
    "y_test_df = spark.createDataFrame(y_test, ['Class'])"
   ]
  },
  {
   "cell_type": "code",
   "execution_count": 58,
   "metadata": {},
   "outputs": [
    {
     "name": "stdout",
     "output_type": "stream",
     "text": [
      "joined_df:\n"
     ]
    },
    {
     "name": "stderr",
     "output_type": "stream",
     "text": [
      "[Stage 719:===================================>                     (5 + 3) / 8]\r"
     ]
    },
    {
     "name": "stdout",
     "output_type": "stream",
     "text": [
      "+----------+-----+-----------+\n",
      "|prediction|Class|same_values|\n",
      "+----------+-----+-----------+\n",
      "|         6|    6|          1|\n",
      "|         8|    8|          1|\n",
      "|         6|    3|          0|\n",
      "|         7|    7|          1|\n",
      "|         3|    8|          0|\n",
      "|         9|    9|          1|\n",
      "|         9|    9|          1|\n",
      "|        10|   10|          1|\n",
      "|         2|    2|          1|\n",
      "|         6|    6|          1|\n",
      "|        10|   10|          1|\n",
      "|        10|   10|          1|\n",
      "|         9|    3|          0|\n",
      "|         7|    5|          0|\n",
      "|         6|    6|          1|\n",
      "|         6|    6|          1|\n",
      "|         2|    2|          1|\n",
      "|         2|    2|          1|\n",
      "|         3|    3|          1|\n",
      "|         1|    1|          1|\n",
      "|         7|    7|          1|\n",
      "|         2|    8|          0|\n",
      "|         7|    7|          1|\n",
      "|         4|    4|          1|\n",
      "|         5|    5|          1|\n",
      "|        10|   10|          1|\n",
      "|         4|    4|          1|\n",
      "|         7|    7|          1|\n",
      "|         6|    6|          1|\n",
      "|         2|    2|          1|\n",
      "|         7|    7|          1|\n",
      "|         3|    3|          1|\n",
      "|         1|    1|          1|\n",
      "|         3|    3|          1|\n",
      "|         8|    8|          1|\n",
      "|         9|    9|          1|\n",
      "|         3|    3|          1|\n",
      "|         2|    2|          1|\n",
      "|         3|    3|          1|\n",
      "|         4|    4|          1|\n",
      "|         9|    9|          1|\n",
      "|         8|    2|          0|\n",
      "|         6|    6|          1|\n",
      "|         1|    1|          1|\n",
      "|         5|    5|          1|\n",
      "|         7|    7|          1|\n",
      "|        10|   10|          1|\n",
      "|         5|    5|          1|\n",
      "|         6|    6|          1|\n",
      "|         9|    2|          0|\n",
      "|         7|    7|          1|\n",
      "|         9|    9|          1|\n",
      "|         3|    3|          1|\n",
      "|         4|    4|          1|\n",
      "|         8|    8|          1|\n",
      "|         6|    5|          0|\n",
      "|         7|    7|          1|\n",
      "|         5|    5|          1|\n",
      "|         9|    9|          1|\n",
      "|         1|    1|          1|\n",
      "|         1|    1|          1|\n",
      "|         4|    4|          1|\n",
      "|        10|    4|          0|\n",
      "|         9|    3|          0|\n",
      "|         2|    2|          1|\n",
      "|         6|    6|          1|\n",
      "|         5|    6|          0|\n",
      "|         2|    2|          1|\n",
      "|         5|    5|          1|\n",
      "|         6|    6|          1|\n",
      "|         8|    8|          1|\n",
      "|        10|    6|          0|\n",
      "|         8|    8|          1|\n",
      "|         1|    1|          1|\n",
      "|         2|    2|          1|\n",
      "|         3|    3|          1|\n",
      "|         3|    3|          1|\n",
      "|         8|    8|          1|\n",
      "|         3|    3|          1|\n",
      "|         4|    4|          1|\n",
      "|         5|    5|          1|\n",
      "|         7|    7|          1|\n",
      "|        10|   10|          1|\n",
      "|         4|    4|          1|\n",
      "|        10|   10|          1|\n",
      "|         3|    3|          1|\n",
      "|         8|    3|          0|\n",
      "|         4|    4|          1|\n",
      "|         7|    7|          1|\n",
      "|         2|    2|          1|\n",
      "|         2|    2|          1|\n",
      "|         9|    9|          1|\n",
      "|         4|    4|          1|\n",
      "|         6|    6|          1|\n",
      "|         1|    1|          1|\n",
      "|         3|    3|          1|\n",
      "|         7|    4|          0|\n",
      "|         8|    9|          0|\n",
      "|         1|    1|          1|\n",
      "|         2|    2|          1|\n",
      "+----------+-----+-----------+\n",
      "only showing top 100 rows\n",
      "\n"
     ]
    },
    {
     "name": "stderr",
     "output_type": "stream",
     "text": [
      "                                                                                \r"
     ]
    }
   ],
   "source": [
    "from pyspark.sql.functions import monotonically_increasing_id\n",
    "\n",
    "y_pred_df = y_pred_df.withColumn(\"id\", monotonically_increasing_id())\n",
    "y_test_df = y_test_df.withColumn(\"id\", monotonically_increasing_id())\n",
    "\n",
    "joined_df = y_pred_df.join(y_test_df, \"id\", \"outer\").drop(\"id\")\n",
    "\n",
    "joined_df = joined_df.withColumn('same_values', when(joined_df.prediction == joined_df.Class, 1).otherwise(0))\n",
    "\n",
    "print(\"joined_df:\")\n",
    "joined_df.show(100)"
   ]
  },
  {
   "cell_type": "code",
   "execution_count": 59,
   "metadata": {},
   "outputs": [
    {
     "name": "stdout",
     "output_type": "stream",
     "text": [
      "83.79% of rows have the same label and prediction.\n"
     ]
    }
   ],
   "source": [
    "percentage_same_values = joined_df.agg({'same_values': 'mean'}).collect()[0][0] * 100\n",
    "\n",
    "print(f\"{percentage_same_values:.2f}% of rows have the same label and prediction.\")"
   ]
  },
  {
   "cell_type": "code",
   "execution_count": 60,
   "metadata": {},
   "outputs": [
    {
     "name": "stdout",
     "output_type": "stream",
     "text": [
      "F1 score: 0.84\n"
     ]
    }
   ],
   "source": [
    "from pyspark.ml.evaluation import MulticlassClassificationEvaluator\n",
    "from pyspark.sql.types import DoubleType\n",
    "from pyspark.ml.feature import StringIndexer\n",
    "from pyspark.sql.functions import col\n",
    "\n",
    "indexed_df = joined_df.withColumn(\"ClassIndex\", col(\"Class\").cast(\"integer\"))\n",
    "\n",
    "# Cast the prediction column to DoubleType\n",
    "indexed_df = indexed_df.withColumn(\"prediction\", col(\"prediction\").cast(\"double\"))\n",
    "\n",
    "# Compute F1 score\n",
    "evaluator = MulticlassClassificationEvaluator(predictionCol=\"prediction\", labelCol=\"ClassIndex\", metricName=\"f1\")\n",
    "f1_score = evaluator.evaluate(indexed_df)\n",
    "print(f\"F1 score: {f1_score:.2f}\")"
   ]
  },
  {
   "cell_type": "code",
   "execution_count": 61,
   "metadata": {},
   "outputs": [
    {
     "name": "stderr",
     "output_type": "stream",
     "text": [
      "/Users/filip/miniconda3/envs/big2/lib/python3.9/site-packages/pyspark/sql/context.py:125: FutureWarning: Deprecated in 3.0.0. Use SparkSession.builder.getOrCreate() instead.\n",
      "  warnings.warn(\n"
     ]
    }
   ],
   "source": [
    "from pyspark.sql.functions import when\n",
    "from pyspark.ml.feature import StringIndexer\n",
    "from pyspark.mllib.evaluation import MulticlassMetrics\n",
    "import matplotlib.pyplot as plt\n",
    "\n",
    "indexed_df = indexed_df.withColumn(\"ClassIndexDb\", col(\"ClassIndex\").cast(\"double\"))\n",
    "\n",
    "# Calculate the confusion matrix\n",
    "predictions_and_labels = indexed_df.select([\"prediction\", \"ClassIndexDb\"]).rdd\n",
    "metrics = MulticlassMetrics(predictions_and_labels)\n",
    "\n",
    "confusion_matrix = metrics.confusionMatrix().toArray()\n",
    "\n",
    "# Define list of class labels\n",
    "classes = ['1', '2', '3', '4', '5', '6', '7', '8', '9', '10']"
   ]
  },
  {
   "cell_type": "code",
   "execution_count": 62,
   "metadata": {},
   "outputs": [
    {
     "data": {
      "image/png": "[encoded data removed]",
      "text/plain": [
       "<Figure size 640x480 with 2 Axes>"
      ]
     },
     "metadata": {},
     "output_type": "display_data"
    }
   ],
   "source": [
    "# Plot the confusion matrix\n",
    "fig, ax = plt.subplots()\n",
    "im = ax.imshow(confusion_matrix, cmap='Reds')\n",
    "\n",
    "# Add colorbar\n",
    "cbar = ax.figure.colorbar(im, ax=ax)\n",
    "\n",
    "# Set ticks and tick labels\n",
    "ax.set_xticks(range(len(classes)))\n",
    "ax.set_yticks(range(len(classes)))\n",
    "ax.set_xticklabels(classes)\n",
    "ax.set_yticklabels(classes)\n",
    "\n",
    "# Loop over data dimensions and create text annotations.\n",
    "thresh = confusion_matrix.max() / 2.\n",
    "for i in range(len(confusion_matrix)):\n",
    "    for j in range(len(confusion_matrix[i])):\n",
    "        ax.text(j, i, format(confusion_matrix[i, j], '.0f'),\n",
    "                ha=\"center\", va=\"center\",\n",
    "                color=\"white\" if confusion_matrix[i, j] > thresh else \"black\")\n",
    "\n",
    "ax.set_title(\"Confusion Matrix\")\n",
    "ax.set_xlabel(\"Predicted label\")\n",
    "ax.set_ylabel(\"True label\")\n",
    "fig.tight_layout()\n",
    "plt.show()"
   ]
  }
 ],
 "metadata": {
  "application/vnd.databricks.v1+notebook": {
   "dashboards": [],
   "language": "python",
   "notebookMetadata": {
    "pythonIndentUnit": 2
   },
   "notebookName": "ECG5000",
   "notebookOrigID": 2572364315463075,
   "widgets": {}
  },
  "kernelspec": {
   "display_name": "big2",
   "language": "python",
   "name": "python3"
  },
  "language_info": {
   "codemirror_mode": {
    "name": "ipython",
    "version": 3
   },
   "file_extension": ".py",
   "mimetype": "text/x-python",
   "name": "python",
   "nbconvert_exporter": "python",
   "pygments_lexer": "ipython3",
   "version": "3.9.16"
  }
 },
 "nbformat": 4,
 "nbformat_minor": 0
}
